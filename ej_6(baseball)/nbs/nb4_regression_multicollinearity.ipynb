{
 "cells": [
  {
   "cell_type": "markdown",
   "metadata": {},
   "source": [
    "# Baseball Gestión de Multicolinealidad para Modelos de Regresión usando PCA"
   ]
  },
  {
   "cell_type": "markdown",
   "metadata": {},
   "source": [
    "## Objetivos de Aprendizaje"
   ]
  },
  {
   "cell_type": "markdown",
   "metadata": {},
   "source": [
    "Utilizar PCA (Principal Components-Decomposition Analysis) para eliminar multi-colinealidad de modelos\n",
    "    * identificación de multicolinealidad en las variables del modelo\n",
    "    * entrenar e interpretar PCA\n",
    "    * ejecutar regresión en componentes principales"
   ]
  },
  {
   "cell_type": "markdown",
   "metadata": {},
   "source": [
    "## Imports"
   ]
  },
  {
   "cell_type": "code",
   "execution_count": null,
   "metadata": {
    "collapsed": true
   },
   "outputs": [],
   "source": [
    "import pandas as pd\n",
    "import statsmodels.api as sms\n",
    "import sklearn.decomposition as dcmp"
   ]
  },
  {
   "cell_type": "code",
   "execution_count": null,
   "metadata": {
    "collapsed": false
   },
   "outputs": [],
   "source": [
    "%matplotlib inline"
   ]
  },
  {
   "cell_type": "markdown",
   "metadata": {},
   "source": [
    "## Obtención de Data y Subset de Data"
   ]
  },
  {
   "cell_type": "code",
   "execution_count": null,
   "metadata": {
    "collapsed": true
   },
   "outputs": [],
   "source": [
    "# lectura de archivo csv y generación del dataframe\n",
    "df = pd.read_csv('../data/baseball_data.csv')\n",
    "\n",
    "# generación de subset dataframe eliminando filas con valores NULLs\n",
    "bix = df.notnull().all(axis=1)\n",
    "df = df[bix]"
   ]
  },
  {
   "cell_type": "markdown",
   "metadata": {},
   "source": [
    "## Primer Modelo de Regresión utilizando Todas las Variables"
   ]
  },
  {
   "cell_type": "markdown",
   "metadata": {},
   "source": [
    "El objetivo de esta primera etapa es poder analizar como se relacionan todas las variables con el target (variable/atributo objetivo). Desafortunadamente, esto falla debido a la alta co-relación entre algunas variables."
   ]
  },
  {
   "cell_type": "code",
   "execution_count": null,
   "metadata": {
    "collapsed": false
   },
   "outputs": [],
   "source": [
    "model = sms.OLS(df.salary_in_thousands_of_dollars, sms.add_constant(df.iloc[:, 1:]))"
   ]
  },
  {
   "cell_type": "code",
   "execution_count": null,
   "metadata": {
    "collapsed": false,
    "scrolled": true
   },
   "outputs": [],
   "source": [
    "result = model.fit()"
   ]
  },
  {
   "cell_type": "code",
   "execution_count": null,
   "metadata": {
    "collapsed": false
   },
   "outputs": [],
   "source": [
    "print(result.summary())"
   ]
  },
  {
   "cell_type": "markdown",
   "metadata": {},
   "source": [
    "#### Notas:\n",
    "    * Con este enfoque, logramos obtener un R^2 bastante alto desde el inicio 0.71, esto no siempre es bueno.\n",
    "    * Mediante este resumen estadístico, se puede comenzar a observar cuales variables son \n",
    "    potencialmente significativas\n",
    "        - on_base_percentage\n",
    "        - number_of_runs\n",
    "        - number_of_runs_batted_in\n",
    "        - number_of_strike_outs\n",
    "        - number_of_stolen_bases\n",
    "        - indicator_of_free_agency_eligibility\n",
    "        - indicator_of_free_agent_in_1991_1992\n",
    "        - indicator_of_arbitration_eligibility\n",
    "        - indicator_of_arbitration_in_1991_1992\n",
    "    * Aun hay bastantes variables, como podemos discernir cuales usar y no usar en el modelo?\n",
    "    * Warning [2] indica que probablemente existe una alta colinelidad entre algunas variables."
   ]
  },
  {
   "cell_type": "markdown",
   "metadata": {},
   "source": [
    "## Analizar Correlaciones entre las Variables"
   ]
  },
  {
   "cell_type": "markdown",
   "metadata": {},
   "source": [
    "Dentro de los primeros analisis que debiesemos hacer, es el de analizar la correlación entre variables."
   ]
  },
  {
   "cell_type": "code",
   "execution_count": null,
   "metadata": {
    "collapsed": false,
    "scrolled": false
   },
   "outputs": [],
   "source": [
    "df.corr().style.background_gradient(cmap='Blues')"
   ]
  },
  {
   "cell_type": "markdown",
   "metadata": {},
   "source": [
    "Al usar .style.background_gradient(cmap='viridis') al final del método corr(), es posible añadir un estilo a la matriz de correlación, lo cual ayuda a la visualización de variables con alta correlación."
   ]
  },
  {
   "cell_type": "markdown",
   "metadata": {},
   "source": [
    "Notas:\n",
    "    * existe alta correlación entre sueldo y número de variables que no son significativas en el primer modelo.\n",
    "    * hay una baja correlación entre variables que en el primer modelo parecen significativas y sueldo.\n",
    "    * hay una alta correlación entre sueldo y algunas variables que en el primer modelo no son consideradas como significativas.\n",
    "    * Algunas correlaciones entre variables pueden estar probocando imprecisión en el primer modelo."
   ]
  },
  {
   "cell_type": "markdown",
   "metadata": {},
   "source": [
    "## Gestión para la Correlación de Variables"
   ]
  },
  {
   "cell_type": "markdown",
   "metadata": {},
   "source": [
    "###### Crear y ajustar Objeto PCA"
   ]
  },
  {
   "cell_type": "code",
   "execution_count": null,
   "metadata": {
    "collapsed": false
   },
   "outputs": [],
   "source": [
    "pca = dcmp.PCA()\n",
    "pca.fit(df.iloc[:, 1:])"
   ]
  },
  {
   "cell_type": "markdown",
   "metadata": {},
   "source": [
    "###### Análisis de Componentes"
   ]
  },
  {
   "cell_type": "markdown",
   "metadata": {},
   "source": [
    "Si el modelo busca ser interpretado y no solo generar predicciones, necesitamos entregar interpretación de variables.\n",
    "\n",
    "En los comandos de abajo, revisamos los PCs y observamos:\n",
    "    - las variables con nombre \"number_of_xxxx\" donde xxxx es una actividad relacionada con el bateo, están altamente cargadas en PC1.\n",
    "    - number_of_hits y number_of_runs están cargadas altamente en positivo, mientras los home_runs, rbis, walks, y strike_outs están cargadas altamente hacia valores negativos para PC2.\n",
    "    \n",
    "Nuestra interpretación para los primeros dos PCs (PC1 y PC2), debiese ser:\n",
    "    - PC1 describe mayoritariamente el comportamiento de las variables \"number_of_xxxx,\" siendo xxxx actividades durante el bateo.\n",
    "    - PC2 describe variables relacionadas con la eficiencia del bateo.\n",
    "        * aquí la mayor carga positiva se encuentra en number_of_hits y la mayor carga negativa en number_of_strike_outs (the loadings are \"competing\")"
   ]
  },
  {
   "cell_type": "code",
   "execution_count": null,
   "metadata": {
    "collapsed": false
   },
   "outputs": [],
   "source": [
    "pd.DataFrame(pca.components_.T, \n",
    "                columns=['PC' + str(i+1) for i in range(pca.components_.shape[1])],\n",
    "                index=df.iloc[:, 1:].columns)"
   ]
  },
  {
   "cell_type": "markdown",
   "metadata": {},
   "source": [
    "###### Analisis de Scree Plot"
   ]
  },
  {
   "cell_type": "code",
   "execution_count": null,
   "metadata": {
    "collapsed": false
   },
   "outputs": [],
   "source": [
    "pd.Series(pca.explained_variance_ratio_).plot(title='Scree Plot');"
   ]
  },
  {
   "cell_type": "markdown",
   "metadata": {},
   "source": [
    "###### Obtener Transformación de Data"
   ]
  },
  {
   "cell_type": "code",
   "execution_count": null,
   "metadata": {
    "collapsed": false
   },
   "outputs": [],
   "source": [
    "transformed = pca.fit_transform(df.iloc[:, 1:])\n",
    "reduced = transformed[:, :2]\n",
    "data = pd.DataFrame(reduced, columns=['p1', 'p2'])"
   ]
  },
  {
   "cell_type": "markdown",
   "metadata": {},
   "source": [
    "###### Ajustes de Regresión sobre la data transformada"
   ]
  },
  {
   "cell_type": "code",
   "execution_count": null,
   "metadata": {
    "collapsed": false
   },
   "outputs": [],
   "source": [
    "model = sms.OLS(df.salary_in_thousands_of_dollars.reset_index().drop('index', axis=1), sms.add_constant(data))"
   ]
  },
  {
   "cell_type": "code",
   "execution_count": null,
   "metadata": {
    "collapsed": false
   },
   "outputs": [],
   "source": [
    "results = model.fit()"
   ]
  },
  {
   "cell_type": "code",
   "execution_count": null,
   "metadata": {
    "collapsed": false
   },
   "outputs": [],
   "source": [
    "print(results.summary())"
   ]
  }
 ],
 "metadata": {
  "anaconda-cloud": {},
  "kernelspec": {
   "display_name": "Python [default]",
   "language": "python",
   "name": "python3"
  },
  "language_info": {
   "codemirror_mode": {
    "name": "ipython",
    "version": 3
   },
   "file_extension": ".py",
   "mimetype": "text/x-python",
   "name": "python",
   "nbconvert_exporter": "python",
   "pygments_lexer": "ipython3",
   "version": "3.5.2"
  }
 },
 "nbformat": 4,
 "nbformat_minor": 0
}
