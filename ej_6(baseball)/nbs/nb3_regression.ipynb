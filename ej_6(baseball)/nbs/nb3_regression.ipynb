{
 "cells": [
  {
   "cell_type": "markdown",
   "metadata": {},
   "source": [
    "# Baseball  Regression Modeling Model Selection"
   ]
  },
  {
   "cell_type": "markdown",
   "metadata": {},
   "source": [
    "## Objectivos de Aprendizaje"
   ]
  },
  {
   "cell_type": "markdown",
   "metadata": {},
   "source": [
    "Correr regresión lineal básica utilizando regularización L1 y aprender algo de selección de variables\n",
    "    * ejecutar una regresión lineal simple de diferencias cuadradas\n",
    "    * analisis del output\n",
    "    * correr regresión L1 e identificar mejor parámetro de regularización\n",
    "    * interpretar parámetros del modelo"
   ]
  },
  {
   "cell_type": "markdown",
   "metadata": {},
   "source": [
    "## Imports"
   ]
  },
  {
   "cell_type": "code",
   "execution_count": null,
   "metadata": {
    "collapsed": true
   },
   "outputs": [],
   "source": [
    "import pandas as pd\n",
    "import statsmodels.api as sms\n",
    "import sklearn.linear_model as lm"
   ]
  },
  {
   "cell_type": "code",
   "execution_count": null,
   "metadata": {
    "collapsed": false
   },
   "outputs": [],
   "source": [
    "%matplotlib inline"
   ]
  },
  {
   "cell_type": "markdown",
   "metadata": {},
   "source": [
    "## Obtener Data y generar un Subset de Data"
   ]
  },
  {
   "cell_type": "code",
   "execution_count": null,
   "metadata": {
    "collapsed": false
   },
   "outputs": [],
   "source": [
    "# leer archivo csv y guardar dataframe\n",
    "df = pd.read_csv('../data/baseball_data.csv')\n",
    "\n",
    "# generar subset removiendo filas con valores NULL\n",
    "bix = df.notnull().all(axis=1)\n",
    "df = df[bix]"
   ]
  },
  {
   "cell_type": "markdown",
   "metadata": {},
   "source": [
    "## Primer Modelo de Regresión utilizando todas las variables"
   ]
  },
  {
   "cell_type": "markdown",
   "metadata": {},
   "source": [
    "El objetivo de esta primera etapa es poder analizar como se relacionan todas las variables con el target (variable/atributo objetivo). Desafortunadamente, esto falla debido a la alta co-relación entre algunas variables."
   ]
  },
  {
   "cell_type": "code",
   "execution_count": null,
   "metadata": {
    "collapsed": false
   },
   "outputs": [],
   "source": [
    "model = sms.OLS(df.salary_in_thousands_of_dollars, sms.add_constant(df.iloc[:, 1:]))"
   ]
  },
  {
   "cell_type": "code",
   "execution_count": null,
   "metadata": {
    "collapsed": false,
    "scrolled": true
   },
   "outputs": [],
   "source": [
    "result = model.fit()"
   ]
  },
  {
   "cell_type": "code",
   "execution_count": null,
   "metadata": {
    "collapsed": false
   },
   "outputs": [],
   "source": [
    "print(result.summary())"
   ]
  },
  {
   "cell_type": "markdown",
   "metadata": {},
   "source": [
    "#### Notas:\n",
    "    * Con este enfoque, logramos obtener un R^2 bastante alto desde el inicio 0.71, esto no siempre es bueno.\n",
    "    * Mediante este resumen estadístico, se puede comenzar a observar cuales variables son \n",
    "    potencialmente significativas\n",
    "        - on_base_percentage\n",
    "        - number_of_runs\n",
    "        - number_of_runs_batted_in\n",
    "        - number_of_strike_outs\n",
    "        - number_of_stolen_bases\n",
    "        - indicator_of_free_agency_eligibility\n",
    "        - indicator_of_free_agent_in_1991_1992\n",
    "        - indicator_of_arbitration_eligibility\n",
    "        - indicator_of_arbitration_in_1991_1992\n",
    "    * Aun hay bastantes variables, como podemos discernir cuales usar y no usar en el modelo?\n",
    "    * Warning [2] indica que probablemente existe una alta colinelidad entre algunas variables."
   ]
  },
  {
   "cell_type": "markdown",
   "metadata": {},
   "source": [
    "## Selección del Modelo utilizando Regresión L1"
   ]
  },
  {
   "cell_type": "markdown",
   "metadata": {},
   "source": [
    "Notas:\n",
    "        * entrenar modelo con valores de alpha entre 2^-15 y 2^15 (parámetro de regularización) \n",
    "        * esto forzará un número significativo de parámetros a cero\n",
    "        * las variables asociadas a parámetros distintos de cero, serán las variables seleccionadas\n",
    "        * escogeremos el modelo con menores aic y bic \n",
    "        (Akaike Information Criterion | Bayesian Information Criterion)\n",
    "        * finalmente re-entrenarémos el \"mejor modelo\" e interpretarémos las variables"
   ]
  },
  {
   "cell_type": "code",
   "execution_count": null,
   "metadata": {
    "collapsed": true
   },
   "outputs": [],
   "source": [
    "model = sms.OLS(df.salary_in_thousands_of_dollars, sms.add_constant(df.iloc[:, 1:]))"
   ]
  },
  {
   "cell_type": "code",
   "execution_count": null,
   "metadata": {
    "collapsed": false
   },
   "outputs": [],
   "source": [
    "# declare lists for storage\n",
    "nums = list()\n",
    "parmslist = list()\n",
    "\n",
    "# loop from k = -15 to k = 15 increasing the value of the \n",
    "# penalization parameter calculated 2**k\n",
    "for k in range(-15, 15):\n",
    "    alpha = 2**k\n",
    "    \n",
    "    # fit regression\n",
    "    reg_results = model.fit_regularized(alpha=alpha)\n",
    "    \n",
    "    # get aic and bic\n",
    "    aic = reg_results.aic\n",
    "    bic = reg_results.bic\n",
    "    \n",
    "    # count the number non zero parameters\n",
    "    parmct = (reg_results.params != 0).sum()\n",
    "    \n",
    "    # get rsqrd\n",
    "    rsqr = reg_results.rsquared\n",
    "    \n",
    "    # collect the list of nonzero parameters\n",
    "    parms = reg_results.params[(reg_results.params != 0)].index.tolist()\n",
    "    \n",
    "    # store values\n",
    "    parmslist.append(parms)\n",
    "    nums.append((alpha, aic, bic, rsqr, parmct))"
   ]
  },
  {
   "cell_type": "code",
   "execution_count": null,
   "metadata": {
    "collapsed": false
   },
   "outputs": [],
   "source": [
    "modelsdf = pd.DataFrame(nums, columns=['alpha', 'aic', 'bic', 'rsqr', 'parmsct'])"
   ]
  },
  {
   "cell_type": "code",
   "execution_count": null,
   "metadata": {
    "collapsed": false
   },
   "outputs": [],
   "source": [
    "modelsdf[['aic', 'bic']].plot()"
   ]
  },
  {
   "cell_type": "markdown",
   "metadata": {},
   "source": [
    "#### Nota: \n",
    "Valores de alpha = 0 mantienen aic y bic en sus mínimos, por lo que no es necesario setear parámetro de regularización, i.e., alpha = 0"
   ]
  },
  {
   "cell_type": "code",
   "execution_count": null,
   "metadata": {
    "collapsed": false,
    "scrolled": true
   },
   "outputs": [],
   "source": [
    "i = 1\n",
    "for lst in parmslist:\n",
    "    strn = ''\n",
    "    for item in lst:\n",
    "        strn += item + ', '\n",
    "    print (\"modelo \" + str(i) + \": \" + strn)\n",
    "    i += 1"
   ]
  },
  {
   "cell_type": "markdown",
   "metadata": {
    "collapsed": true
   },
   "source": [
    "## Re-run Regresión en \"Mejor\" Modelo"
   ]
  },
  {
   "cell_type": "markdown",
   "metadata": {},
   "source": [
    "##### Modelo 1\n",
    "Nota: Fijarse en modelo 23 y 22"
   ]
  },
  {
   "cell_type": "code",
   "execution_count": null,
   "metadata": {
    "collapsed": false
   },
   "outputs": [],
   "source": [
    "model = sms.OLS(df.salary_in_thousands_of_dollars, \n",
    "                sms.add_constant(\n",
    "                    df[[\n",
    "                        'number_of_runs', \n",
    "                        'number_of_home_runs', \n",
    "                        'number_of_runs_batted_in',\n",
    "                        'number_of_walks',\n",
    "                        'number_of_stolen_bases',\n",
    "                        'indicator_of_free_agency_eligibility',\n",
    "                        'indicator_of_arbitration_eligibility' \n",
    "                        ]]))"
   ]
  },
  {
   "cell_type": "code",
   "execution_count": null,
   "metadata": {
    "collapsed": false
   },
   "outputs": [],
   "source": [
    "results = model.fit()"
   ]
  },
  {
   "cell_type": "code",
   "execution_count": null,
   "metadata": {
    "collapsed": false
   },
   "outputs": [],
   "source": [
    "print(results.summary())"
   ]
  },
  {
   "cell_type": "markdown",
   "metadata": {},
   "source": [
    "Notas:\n",
    "    * Usando este \"mejor modelo\", re-entrenamos modelo sin regularización L1 (i.e., alpha = 0)\n",
    "    * En este primer re-entrenamiento, las variables number_of_runs, number_of_home_runs y number_of_walks no son significativas, por lo que para el próximo re-entrenamiento podemos omitir estas variables."
   ]
  },
  {
   "cell_type": "markdown",
   "metadata": {},
   "source": [
    "##### Modelo 2"
   ]
  },
  {
   "cell_type": "code",
   "execution_count": null,
   "metadata": {
    "collapsed": true
   },
   "outputs": [],
   "source": [
    "model = sms.OLS(df.salary_in_thousands_of_dollars, \n",
    "                sms.add_constant(\n",
    "                    df[[\n",
    "                        'number_of_runs_batted_in',\n",
    "                        'number_of_stolen_bases',\n",
    "                        'indicator_of_free_agency_eligibility',\n",
    "                        'indicator_of_arbitration_eligibility' \n",
    "                        ]]))"
   ]
  },
  {
   "cell_type": "code",
   "execution_count": null,
   "metadata": {
    "collapsed": true
   },
   "outputs": [],
   "source": [
    "results = model.fit()"
   ]
  },
  {
   "cell_type": "code",
   "execution_count": null,
   "metadata": {
    "collapsed": false
   },
   "outputs": [],
   "source": [
    "print(results.summary())"
   ]
  },
  {
   "cell_type": "markdown",
   "metadata": {},
   "source": [
    "Interpretación:\n",
    "    * para variables continuas, una forma de interpretar los coeficientes lineales son\n",
    "        - una unidad de cambio en number_of_runs_batted_in corresponde a 18,700 dolares de incremento en el salario del atleta.\n",
    "        - una unidad de cambio en number_of_stolen_bases corresponde a 11,400 dolares de incremento en el salario.\n",
    "        \n",
    "    * para variables binarias, podemos interpretar los coefficientes de manera similar\n",
    "        - cuando un atleta es libre de ataduras contractuales, vemos un incremento promedio del salario en 1,330,000 dolares.\n",
    "        - cuando un atleta tiene capacidad de solicitar arbitraje salarial, se observa un incremento promedio de 865,000 dolares en su salario."
   ]
  }
 ],
 "metadata": {
  "anaconda-cloud": {},
  "kernelspec": {
   "display_name": "Python [default]",
   "language": "python",
   "name": "python3"
  },
  "language_info": {
   "codemirror_mode": {
    "name": "ipython",
    "version": 3
   },
   "file_extension": ".py",
   "mimetype": "text/x-python",
   "name": "python",
   "nbconvert_exporter": "python",
   "pygments_lexer": "ipython3",
   "version": "3.5.2"
  }
 },
 "nbformat": 4,
 "nbformat_minor": 0
}
