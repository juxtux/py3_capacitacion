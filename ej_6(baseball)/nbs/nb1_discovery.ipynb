{
 "cells": [
  {
   "cell_type": "markdown",
   "metadata": {},
   "source": [
    "# Baseball First Look"
   ]
  },
  {
   "cell_type": "markdown",
   "metadata": {},
   "source": [
    "## Objetivos de Aprendizaje"
   ]
  },
  {
   "cell_type": "markdown",
   "metadata": {},
   "source": [
    "Exploración inicial del dataset:\n",
    "    * abrir archivo csv\n",
    "    * indexing y slicing booleano\n",
    "    * mostrar resumenes de vistas de datos\n",
    "    * plotting básico"
   ]
  },
  {
   "cell_type": "markdown",
   "metadata": {},
   "source": [
    "## Imports"
   ]
  },
  {
   "cell_type": "markdown",
   "metadata": {},
   "source": [
    "Importar paquete de pandas. Pandas es un work-horse de la comunidad de Python Analytics."
   ]
  },
  {
   "cell_type": "code",
   "execution_count": null,
   "metadata": {
    "collapsed": false
   },
   "outputs": [],
   "source": [
    "import pandas as pd"
   ]
  },
  {
   "cell_type": "markdown",
   "metadata": {},
   "source": [
    "Inicialización inline para plotting con iPython vía el comando a continuación (reemplazo de import matplotlib.pyplot as plt)"
   ]
  },
  {
   "cell_type": "code",
   "execution_count": null,
   "metadata": {
    "collapsed": false
   },
   "outputs": [],
   "source": [
    "%matplotlib inline"
   ]
  },
  {
   "cell_type": "markdown",
   "metadata": {},
   "source": [
    "## Generación de data frame"
   ]
  },
  {
   "cell_type": "code",
   "execution_count": null,
   "metadata": {
    "collapsed": false
   },
   "outputs": [],
   "source": [
    "df = pd.read_csv('../data/baseball_data.csv')"
   ]
  },
  {
   "cell_type": "markdown",
   "metadata": {},
   "source": [
    "## Analizar de manera rápida las Top 5 Filas"
   ]
  },
  {
   "cell_type": "markdown",
   "metadata": {},
   "source": [
    "Notas :\n",
    "    * \"salary_in_thousands_of_dollars\" se refiere al sueldo anual en miles de dolares del jugador (e.g., 3300 indica que ese jugador tienen un sueldo anual de USD$3,300,000).\n",
    "    * las cuatro últimas columnas son valores binarios 0|1"
   ]
  },
  {
   "cell_type": "code",
   "execution_count": null,
   "metadata": {
    "collapsed": false
   },
   "outputs": [],
   "source": [
    "df.head()"
   ]
  },
  {
   "cell_type": "markdown",
   "metadata": {},
   "source": [
    "## Tipos de Data en mi data frame"
   ]
  },
  {
   "cell_type": "code",
   "execution_count": null,
   "metadata": {
    "collapsed": false
   },
   "outputs": [],
   "source": [
    "df.dtypes"
   ]
  },
  {
   "cell_type": "markdown",
   "metadata": {},
   "source": [
    "## Slicing Basics"
   ]
  },
  {
   "cell_type": "markdown",
   "metadata": {},
   "source": [
    "Principalmente existen tres métodos de slicing, ([ ... ], .loc[ ... ], .iloc[ ... ])."
   ]
  },
  {
   "cell_type": "markdown",
   "metadata": {},
   "source": [
    "#### 1. operador [ ... ]"
   ]
  },
  {
   "cell_type": "markdown",
   "metadata": {},
   "source": [
    "En los statements de abajo mostramos la naturaleza implicita del operador [ ... ] y su aveces poco intuitivo comportamiento. Es mejor utilizar el operador [ ... ] para los casos (1) y (3). Para el caso (2) es mejor utilizar iloc[ ... ]."
   ]
  },
  {
   "cell_type": "markdown",
   "metadata": {},
   "source": [
    "#### Caso (1) : \n",
    "El uso de los operadores [ ... ] permite a Pandas interferir con que esta siendo requerido en el comando. Pasando el nombre de una columna o una lista de nombres de columnas a este operador, permite retornar una Serie o un DataFrame, que contenga las columnas correspondientes a estos nombres."
   ]
  },
  {
   "cell_type": "code",
   "execution_count": null,
   "metadata": {
    "collapsed": false
   },
   "outputs": [],
   "source": [
    "# returns una Serie\n",
    "df['batting_average']"
   ]
  },
  {
   "cell_type": "code",
   "execution_count": null,
   "metadata": {
    "collapsed": false
   },
   "outputs": [],
   "source": [
    "# returns un DataFrame\n",
    "df[['batting_average', 'on_base_percentage']]"
   ]
  },
  {
   "cell_type": "markdown",
   "metadata": {},
   "source": [
    "#### Caso (2) :\n",
    "La entrega de una lista de números enteros retorna las columnas de datos en esas ubicaciones. Indexing en Pandas es de base 0."
   ]
  },
  {
   "cell_type": "code",
   "execution_count": null,
   "metadata": {
    "collapsed": false
   },
   "outputs": [],
   "source": [
    "# returns las primeras cuatro columnas como un DataFrame\n",
    "df[[1,2,3,4]]"
   ]
  },
  {
   "cell_type": "markdown",
   "metadata": {},
   "source": [
    "#### Caso (3) : \n",
    "A continuación creamos una Serie de valores True & False. Luego, entregamos esta Serie al DataFrame df[ ... ] y realizamos slice de filas en vez de slice de columnas."
   ]
  },
  {
   "cell_type": "code",
   "execution_count": null,
   "metadata": {
    "collapsed": false
   },
   "outputs": [],
   "source": [
    "# returns las primeras 5 filas\n",
    "boolean_series = df.index < 5\n",
    "df[boolean_series]"
   ]
  },
  {
   "cell_type": "markdown",
   "metadata": {},
   "source": [
    "#### 2. Operador .loc[ ... ]"
   ]
  },
  {
   "cell_type": "markdown",
   "metadata": {},
   "source": [
    "El operador .loc[ ... ] provee acceso simultaneo a filas y columnas, usando la sintaxis df.loc[some_row_indexer, some_column_indexer]. El método .loc[ ... ] también permite acceso a campos del DataFrame para fines de sobre-escritura y modificaciones de data."
   ]
  },
  {
   "cell_type": "code",
   "execution_count": null,
   "metadata": {
    "collapsed": false
   },
   "outputs": [],
   "source": [
    "# primeras 3 filas y todas las columnas, notar sintaxis \" :2 y : \" para realizar slice.\n",
    "# también notar que el index 0 puede ser implicito y que el index final, en este caso 2, es \n",
    "# incluído.\n",
    "df.loc[:2, :]"
   ]
  },
  {
   "cell_type": "markdown",
   "metadata": {},
   "source": [
    "#### 3. Operador .iloc[ ... ]"
   ]
  },
  {
   "cell_type": "markdown",
   "metadata": {},
   "source": [
    ".iloc[ ... ] es parecido a .loc[ ... ], con la principal diferencia en que .loc[ ... ] referencia por medio de índices y columnas por nombre. En contraste, .iloc[ ... ] referencia por posición."
   ]
  },
  {
   "cell_type": "code",
   "execution_count": null,
   "metadata": {
    "collapsed": false
   },
   "outputs": [],
   "source": [
    "# Ordena df c/r a los valores de la columna batting_average\n",
    "sortvals = df.sort_values('batting_average')"
   ]
  },
  {
   "cell_type": "code",
   "execution_count": null,
   "metadata": {
    "collapsed": false
   },
   "outputs": [],
   "source": [
    "# Revisemos: notar que los índices por fila han cambiado ascendentemente c/r a la columna\n",
    "# \"batting_average\"\n",
    "sortvals.head()"
   ]
  },
  {
   "cell_type": "code",
   "execution_count": null,
   "metadata": {
    "collapsed": false
   },
   "outputs": [],
   "source": [
    "# el uso de .loc returns todas las filas hasta el índice 147, esto puede ser molesto cuando\n",
    "# tu DataFrame ha pasado por transformaciones necesarias para el análisis\n",
    "sortvals.loc[:332, :]"
   ]
  },
  {
   "cell_type": "code",
   "execution_count": null,
   "metadata": {
    "collapsed": false
   },
   "outputs": [],
   "source": [
    "# returns las primeras 10 filas, sin considerar el valor de los índices.\n",
    "sortvals.iloc[:10, :5]"
   ]
  },
  {
   "cell_type": "markdown",
   "metadata": {},
   "source": [
    "## Utilizar Indexing Booleano para contar el numero de NaNs"
   ]
  },
  {
   "cell_type": "markdown",
   "metadata": {},
   "source": [
    "El uso de la cadena de métodos .isnull() y .any(axis=1) al dataframe retornará una serie indicando que filas tienen valores NULLs. Ojo axis=1 analiza a lo largo de la fila ---->"
   ]
  },
  {
   "cell_type": "code",
   "execution_count": null,
   "metadata": {
    "collapsed": false
   },
   "outputs": [],
   "source": [
    "df.isnull().any(axis=1)"
   ]
  },
  {
   "cell_type": "code",
   "execution_count": null,
   "metadata": {
    "collapsed": false
   },
   "outputs": [],
   "source": [
    "df.loc[335:335 , :]"
   ]
  },
  {
   "cell_type": "markdown",
   "metadata": {},
   "source": [
    "Contemos los nulls, teniendo en cuenta que Python considera para la suma de booleanos True = 1 y False = 0"
   ]
  },
  {
   "cell_type": "code",
   "execution_count": null,
   "metadata": {
    "collapsed": false
   },
   "outputs": [],
   "source": [
    "df.isnull().any(axis=1).sum()"
   ]
  },
  {
   "cell_type": "markdown",
   "metadata": {},
   "source": [
    "Guardar serie de booleanos en una variable"
   ]
  },
  {
   "cell_type": "code",
   "execution_count": null,
   "metadata": {
    "collapsed": true
   },
   "outputs": [],
   "source": [
    "bix = df.isnull().any(axis=1)"
   ]
  },
  {
   "cell_type": "markdown",
   "metadata": {},
   "source": [
    "También puedes obtener un subset del dataframe controlando la serie booleana para ver los valores con NaNs. Cualquier fila donde la serie es True se guarda."
   ]
  },
  {
   "cell_type": "code",
   "execution_count": null,
   "metadata": {
    "collapsed": false
   },
   "outputs": [],
   "source": [
    "mySubset = df[bix]\n",
    "mySubset"
   ]
  },
  {
   "cell_type": "markdown",
   "metadata": {},
   "source": [
    "## Utiliza indexing Booleano para eliminar filas con NaN"
   ]
  },
  {
   "cell_type": "markdown",
   "metadata": {},
   "source": [
    "Para esto es más sencillo contrastar con el uso del método .notnull() para encontrar las filas no NULL y guardar dicha serie booleana."
   ]
  },
  {
   "cell_type": "code",
   "execution_count": null,
   "metadata": {
    "collapsed": true
   },
   "outputs": [],
   "source": [
    "bix = df.notnull().all(axis=1)"
   ]
  },
  {
   "cell_type": "markdown",
   "metadata": {},
   "source": [
    "Esto entrega el dataframe sin las filas null"
   ]
  },
  {
   "cell_type": "code",
   "execution_count": null,
   "metadata": {
    "collapsed": false
   },
   "outputs": [],
   "source": [
    "df[bix]"
   ]
  },
  {
   "cell_type": "markdown",
   "metadata": {},
   "source": [
    "Guardemos nuevo dataframe en una variable."
   ]
  },
  {
   "cell_type": "code",
   "execution_count": null,
   "metadata": {
    "collapsed": true
   },
   "outputs": [],
   "source": [
    "subset = df[bix]"
   ]
  },
  {
   "cell_type": "markdown",
   "metadata": {},
   "source": [
    "## Summary Stats | Resumen Estadístico"
   ]
  },
  {
   "cell_type": "markdown",
   "metadata": {},
   "source": [
    "Nota:\n",
    "    * las variables que tenemos poseen muy diferentes escalas.\n",
    "    * todas los valores son positivos\n",
    "    * considera las distribuciones de las variables individuales:\n",
    "        + Los sueldos -por ejemplo- son bastante asimétricos\n",
    "        + Lo anterior es fácil de ver comparando el promedio y la mediana"
   ]
  },
  {
   "cell_type": "code",
   "execution_count": null,
   "metadata": {
    "collapsed": false
   },
   "outputs": [],
   "source": [
    "subset.describe()"
   ]
  },
  {
   "cell_type": "markdown",
   "metadata": {},
   "source": [
    "## Correlaciones de Pares (Pairwise Correlations)"
   ]
  },
  {
   "cell_type": "markdown",
   "metadata": {},
   "source": [
    "Busca correlaciones para el atributo objetivo a predecir. Para las variables que estén altamente correlacionadas con el atributo objetivo, busca variables que a su vez, estén altamente correlacionadas con éstas. Mantén en mente que estas relaciones pueden causar problemas con futuros modelos de regresión."
   ]
  },
  {
   "cell_type": "code",
   "execution_count": null,
   "metadata": {
    "collapsed": false
   },
   "outputs": [],
   "source": [
    "subset.corr()"
   ]
  },
  {
   "cell_type": "markdown",
   "metadata": {},
   "source": [
    "## Histograma de atributo objetivo (target)"
   ]
  },
  {
   "cell_type": "markdown",
   "metadata": {},
   "source": [
    "Recuerden que en nuestra 2ª línea de comando, utilizamos \"%matplotlib inline\". Esta es la razón:"
   ]
  },
  {
   "cell_type": "code",
   "execution_count": null,
   "metadata": {
    "collapsed": false
   },
   "outputs": [],
   "source": [
    "subset.salary_in_thousands_of_dollars.hist(bins=50)"
   ]
  },
  {
   "cell_type": "markdown",
   "metadata": {},
   "source": [
    "## KDE Analisis, basado en porcentajes (KDE = Kernel Density Estimation)"
   ]
  },
  {
   "cell_type": "markdown",
   "metadata": {},
   "source": [
    "Forma no-paramétrica de inferir función de densidad"
   ]
  },
  {
   "cell_type": "code",
   "execution_count": null,
   "metadata": {
    "collapsed": false
   },
   "outputs": [],
   "source": [
    "subset.number_of_stolen_bases.plot(kind='kde')"
   ]
  },
  {
   "cell_type": "code",
   "execution_count": null,
   "metadata": {
    "collapsed": false
   },
   "outputs": [],
   "source": [
    "subset.salary_in_thousands_of_dollars.plot(kind='kde')"
   ]
  },
  {
   "cell_type": "markdown",
   "metadata": {},
   "source": [
    "## Scatter Plots"
   ]
  },
  {
   "cell_type": "code",
   "execution_count": null,
   "metadata": {
    "collapsed": false
   },
   "outputs": [],
   "source": [
    "subset.plot(y='salary_in_thousands_of_dollars', x='number_of_runs', kind='scatter')"
   ]
  },
  {
   "cell_type": "code",
   "execution_count": null,
   "metadata": {
    "collapsed": false,
    "scrolled": true
   },
   "outputs": [],
   "source": [
    "subset.plot(y='salary_in_thousands_of_dollars', x='number_of_runs_batted_in', kind='scatter')"
   ]
  },
  {
   "cell_type": "code",
   "execution_count": null,
   "metadata": {
    "collapsed": false
   },
   "outputs": [],
   "source": [
    "subset.plot(y='salary_in_thousands_of_dollars', x='number_of_home_runs', kind='scatter')"
   ]
  },
  {
   "cell_type": "markdown",
   "metadata": {},
   "source": [
    "## Scatter Matrix"
   ]
  },
  {
   "cell_type": "code",
   "execution_count": null,
   "metadata": {
    "collapsed": false
   },
   "outputs": [],
   "source": [
    "pd.scatter_matrix(subset.iloc[:,:-4], alpha=0.2, figsize=(25, 25), diagonal='kde');"
   ]
  }
 ],
 "metadata": {
  "anaconda-cloud": {},
  "kernelspec": {
   "display_name": "Python [default]",
   "language": "python",
   "name": "python3"
  },
  "language_info": {
   "codemirror_mode": {
    "name": "ipython",
    "version": 3
   },
   "file_extension": ".py",
   "mimetype": "text/x-python",
   "name": "python",
   "nbconvert_exporter": "python",
   "pygments_lexer": "ipython3",
   "version": "3.5.2"
  }
 },
 "nbformat": 4,
 "nbformat_minor": 0
}
