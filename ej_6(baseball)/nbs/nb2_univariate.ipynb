{
 "cells": [
  {
   "cell_type": "markdown",
   "metadata": {},
   "source": [
    "# Baseball Salaries Univariate Insights"
   ]
  },
  {
   "cell_type": "markdown",
   "metadata": {},
   "source": [
    "## Objetivos de Estudio"
   ]
  },
  {
   "cell_type": "markdown",
   "metadata": {},
   "source": [
    "Revisar información relacionada con columnas individuales\n",
    "    * resumen estadístico\n",
    "    * density plots\n",
    "    * slicing de grupos y comparación de distribuciones de grupos"
   ]
  },
  {
   "cell_type": "code",
   "execution_count": null,
   "metadata": {
    "collapsed": true
   },
   "outputs": [],
   "source": [
    "import pandas as pd"
   ]
  },
  {
   "cell_type": "code",
   "execution_count": null,
   "metadata": {
    "collapsed": true
   },
   "outputs": [],
   "source": [
    "%matplotlib inline"
   ]
  },
  {
   "cell_type": "markdown",
   "metadata": {},
   "source": [
    "## Obtención de Data"
   ]
  },
  {
   "cell_type": "code",
   "execution_count": null,
   "metadata": {
    "collapsed": true
   },
   "outputs": [],
   "source": [
    "df = pd.read_csv('../data/baseball_data.csv')"
   ]
  },
  {
   "cell_type": "markdown",
   "metadata": {},
   "source": [
    "## Estadísticas Resumidas de los Sueldos"
   ]
  },
  {
   "cell_type": "markdown",
   "metadata": {},
   "source": [
    "Notas:\n",
    "    * La Mediana del Sueldo es 740,000\n",
    "    * El Promedio del Sueldo es 1,250,000\n",
    "    * La distribución es bastante asimétrica, como será mostrada en el gráfico KDE abajo."
   ]
  },
  {
   "cell_type": "code",
   "execution_count": null,
   "metadata": {
    "collapsed": false
   },
   "outputs": [],
   "source": [
    "df.salary_in_thousands_of_dollars.describe()"
   ]
  },
  {
   "cell_type": "markdown",
   "metadata": {},
   "source": [
    "## KDE Plot de Sueldos"
   ]
  },
  {
   "cell_type": "markdown",
   "metadata": {},
   "source": [
    "Notas:\n",
    "    * como es esperado, se observa una asimetría a la derecha\n",
    "    * esto es razonable, debido a que los valores son forzados a ser mayores de cero\n",
    "    * puede que exista una bimodalidad"
   ]
  },
  {
   "cell_type": "code",
   "execution_count": null,
   "metadata": {
    "collapsed": false
   },
   "outputs": [],
   "source": [
    "df.salary_in_thousands_of_dollars.plot(kind='kde');"
   ]
  },
  {
   "cell_type": "code",
   "execution_count": null,
   "metadata": {
    "collapsed": false
   },
   "outputs": [],
   "source": [
    "df.head()"
   ]
  },
  {
   "cell_type": "markdown",
   "metadata": {},
   "source": [
    "## Analisis Estadístico Univariable de Grupos"
   ]
  },
  {
   "cell_type": "markdown",
   "metadata": {},
   "source": [
    "###### indicator_of_free_agency_eligibility\n",
    "free agency eligibility: significa jugadores que se encuentran con contratos libres para transferecia hacia otros equipos y sin ataduras contractuales."
   ]
  },
  {
   "cell_type": "markdown",
   "metadata": {},
   "source": [
    "Notas:\n",
    "    * verde son los jugadores con restricciones y azul los jugadores libres\n",
    "    * jugadores liberados son significativamente mejor pagados, al analizar las medias"
   ]
  },
  {
   "cell_type": "code",
   "execution_count": null,
   "metadata": {
    "collapsed": false
   },
   "outputs": [],
   "source": [
    "col = 'indicator_of_free_agency_eligibility'\n",
    "grp = df.groupby(col).salary_in_thousands_of_dollars\n",
    "print(grp.describe())\n",
    "\n",
    "bix = df[col] == 1\n",
    "df[bix].salary_in_thousands_of_dollars.plot(kind='kde');\n",
    "\n",
    "df[~bix].salary_in_thousands_of_dollars.plot(kind='kde');"
   ]
  },
  {
   "cell_type": "markdown",
   "metadata": {},
   "source": [
    "###### indicator_of_arbitration_eligibility\n",
    "\n",
    "arbitration eligibility: se refiere a jugadores que se encuentran entre los años 3 y 6 de contrato en su club. Por ley, estos pueden pasar a un panel de arbitraje de la confederación, en caso que estos no logren un acuerdo salarial con sus equipos."
   ]
  },
  {
   "cell_type": "markdown",
   "metadata": {},
   "source": [
    "Nota:\n",
    "    * nuevamente los jugadores con capacidad de arbitraje son significativamente mejor pagados."
   ]
  },
  {
   "cell_type": "code",
   "execution_count": null,
   "metadata": {
    "collapsed": false
   },
   "outputs": [],
   "source": [
    "col = 'indicator_of_arbitration_eligibility'\n",
    "grp = df.groupby(col).salary_in_thousands_of_dollars\n",
    "print(grp.describe())\n",
    "\n",
    "bix = df[col] == 1\n",
    "df[bix].salary_in_thousands_of_dollars.plot(kind='kde');\n",
    "\n",
    "df[~bix].salary_in_thousands_of_dollars.plot(kind='kde');"
   ]
  },
  {
   "cell_type": "markdown",
   "metadata": {},
   "source": [
    "###### indicator_of_free_agent_in_1991_1992"
   ]
  },
  {
   "cell_type": "code",
   "execution_count": null,
   "metadata": {
    "collapsed": false
   },
   "outputs": [],
   "source": [
    "col = 'indicator_of_free_agent_in_1991_1992'\n",
    "grp = df.groupby(col).salary_in_thousands_of_dollars\n",
    "print(grp.describe())\n",
    "\n",
    "bix = df[col] == 1\n",
    "df[bix].salary_in_thousands_of_dollars.plot(kind='kde');\n",
    "\n",
    "df[~bix].salary_in_thousands_of_dollars.plot(kind='kde');"
   ]
  },
  {
   "cell_type": "markdown",
   "metadata": {},
   "source": [
    "###### indicator_of_arbitration_in_1991_1992"
   ]
  },
  {
   "cell_type": "code",
   "execution_count": null,
   "metadata": {
    "collapsed": false
   },
   "outputs": [],
   "source": [
    "col = 'indicator_of_arbitration_in_1991_1992'\n",
    "grp = df.groupby(col).salary_in_thousands_of_dollars\n",
    "print(grp.describe())\n",
    "\n",
    "bix = df[col] == 1\n",
    "df[bix].salary_in_thousands_of_dollars.plot(kind='kde');\n",
    "\n",
    "df[~bix].salary_in_thousands_of_dollars.plot(kind='kde');"
   ]
  }
 ],
 "metadata": {
  "anaconda-cloud": {},
  "kernelspec": {
   "display_name": "Python [default]",
   "language": "python",
   "name": "python3"
  },
  "language_info": {
   "codemirror_mode": {
    "name": "ipython",
    "version": 3
   },
   "file_extension": ".py",
   "mimetype": "text/x-python",
   "name": "python",
   "nbconvert_exporter": "python",
   "pygments_lexer": "ipython3",
   "version": "3.5.2"
  }
 },
 "nbformat": 4,
 "nbformat_minor": 0
}
